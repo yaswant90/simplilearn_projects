{
 "cells": [
  {
   "cell_type": "code",
   "execution_count": 13,
   "id": "c9b00579",
   "metadata": {},
   "outputs": [],
   "source": [
    "import copy\n",
    "import csv\n",
    "import ast\n",
    "import pandas as pd\n",
    "from tabulate import tabulate"
   ]
  },
  {
   "cell_type": "code",
   "execution_count": 14,
   "id": "324ab93c",
   "metadata": {},
   "outputs": [],
   "source": [
    "expenses = []\n",
    "def salary():\n",
    "    return int(input('Enter your Salary'))\n",
    "salary = salary()\n",
    "balance = copy.deepcopy(salary)"
   ]
  },
  {
   "cell_type": "code",
   "execution_count": 15,
   "id": "435c72cf",
   "metadata": {},
   "outputs": [],
   "source": [
    "def add_expense():\n",
    "    global balance\n",
    "    date = input('Enter the date in DD-MM-YYYY format')\n",
    "    category = input('Enter the category like travel, food etc')\n",
    "    amount = int(input('Enter the amount which you spent'))\n",
    "    description = input('Enter the description')\n",
    "    if salary >= amount:\n",
    "        ### {'date': date, 'category': category, 'amount': amount, 'description': description}\n",
    "        expenses.append(\n",
    "            [date, category, amount, description]\n",
    "        )\n",
    "        print(f\"Expense added successfully : {amount}\")\n",
    "        return amount\n",
    "    else:\n",
    "        print(f\"You don't have budget as your balance is {balance}\")"
   ]
  },
  {
   "cell_type": "code",
   "execution_count": 16,
   "id": "41116ca3",
   "metadata": {},
   "outputs": [],
   "source": [
    "def save_expenses():\n",
    "    try:\n",
    "        with open(\"expenses.csv\", \"w\") as file:\n",
    "            writer = csv.writer(file)\n",
    "            writer.writerow(['Date', 'Category', 'Amount', 'Description'])\n",
    "            writer.writerows(expenses)\n",
    "    except Exception as exp:\n",
    "        print(exp)\n",
    "    finally:\n",
    "        if 'file' in locals() or not file.closed:\n",
    "            file.close()\n",
    "            print('file closed')"
   ]
  },
  {
   "cell_type": "code",
   "execution_count": 17,
   "id": "ca8031a2",
   "metadata": {},
   "outputs": [],
   "source": [
    "def view_expences():\n",
    "    total_expenses = 0;\n",
    "    with open(\"expenses.csv\", \"r\") as file:\n",
    "        content = csv.reader(file)\n",
    "        cleaned_data = []\n",
    "        for row in content:\n",
    "            if len(row) == 1:\n",
    "                cleaned_row = ast.literal_eval(row[0])  # convert the single string back to list\n",
    "                cleaned_data.append(cleaned_row)\n",
    "            else:\n",
    "                if len(row):\n",
    "                    cleaned_data.append(row)\n",
    "    return cleaned_data\n"
   ]
  },
  {
   "cell_type": "code",
   "execution_count": 18,
   "id": "e751f131",
   "metadata": {},
   "outputs": [],
   "source": [
    "def view_expenses():\n",
    "    csv_data = copy.deepcopy(view_expences())\n",
    "    data_without_header = csv_data[1:]\n",
    "    headers = csv_data[0]\n",
    "    print(f\"Your Salary : {salary}\")\n",
    "    print(tabulate(data_without_header, headers=headers, tablefmt=\"grid\"))"
   ]
  },
  {
   "cell_type": "code",
   "execution_count": 19,
   "id": "6c122e94",
   "metadata": {},
   "outputs": [],
   "source": [
    "def track_budget():\n",
    "    print(f\"Your Current Balance : {balance}\")"
   ]
  },
  {
   "cell_type": "code",
   "execution_count": 28,
   "id": "18adbd5b",
   "metadata": {},
   "outputs": [
    {
     "name": "stdout",
     "output_type": "stream",
     "text": [
      "file closed\n",
      "Your Salary : 100000\n",
      "+------------+------------+----------+-------------------------------+\n",
      "| Date       | Category   |   Amount | Description                   |\n",
      "+============+============+==========+===============================+\n",
      "| 16-06-2025 | food       |     5000 | lunch with family and friends |\n",
      "+------------+------------+----------+-------------------------------+\n",
      "| 16-06-2025 | travel     |    45800 | paris visit                   |\n",
      "+------------+------------+----------+-------------------------------+\n"
     ]
    }
   ],
   "source": [
    "userchoice = int(input(\"Enter your chocie\"))\n",
    "global balance\n",
    "match userchoice:\n",
    "    case 1:\n",
    "        print(balance)\n",
    "        if salary >= balance:\n",
    "            balance = balance - add_expense()\n",
    "    case 2: \n",
    "        save_expenses()\n",
    "        view_expenses()\n",
    "    case 3: track_budget()\n",
    "    case 4: save_expenses()\n",
    "    case _:\n",
    "        exit"
   ]
  },
  {
   "cell_type": "code",
   "execution_count": null,
   "id": "3e1b3ed9",
   "metadata": {},
   "outputs": [],
   "source": []
  }
 ],
 "metadata": {
  "kernelspec": {
   "display_name": "base",
   "language": "python",
   "name": "python3"
  },
  "language_info": {
   "codemirror_mode": {
    "name": "ipython",
    "version": 3
   },
   "file_extension": ".py",
   "mimetype": "text/x-python",
   "name": "python",
   "nbconvert_exporter": "python",
   "pygments_lexer": "ipython3",
   "version": "3.12.4"
  }
 },
 "nbformat": 4,
 "nbformat_minor": 5
}
